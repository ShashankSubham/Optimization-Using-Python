{
  "nbformat": 4,
  "nbformat_minor": 0,
  "metadata": {
    "colab": {
      "name": "Solving Knapsack problems using Python and OR-tools .ipynb",
      "provenance": [],
      "toc_visible": true
    },
    "kernelspec": {
      "name": "python3",
      "display_name": "Python 3"
    },
    "language_info": {
      "name": "python"
    }
  },
  "cells": [
    {
      "cell_type": "markdown",
      "metadata": {
        "id": "VVZ2P1RnxvIz"
      },
      "source": [
        "# Knapsack Problem Introduction"
      ]
    },
    {
      "cell_type": "markdown",
      "metadata": {
        "id": "9-vSanctyQ1I"
      },
      "source": [
        "Using a Knapsack problem, we pack a set of items with given weights & values in a container with maximum capacity. The problem is to choose a subset of items that maximizes the total value of the items packed."
      ]
    },
    {
      "cell_type": "markdown",
      "metadata": {
        "id": "FtO2ZuMPzMlD"
      },
      "source": [
        "    Let xk be the number of k type items that are packed\n",
        "\n",
        "    rk be the value associated with each k-type item\n",
        "    Wk be the weight of each k-type item.\n",
        "    Cw be the max capacity of the knapsack/container\n",
        "\n",
        "    Objective is to maximize total value\n",
        "\n",
        "    Max  Σ rk * xk\n",
        "    st.\n",
        "        Σ Wk * xk <= Cw\n",
        "\n",
        "        xk is non-negative integer"
      ]
    },
    {
      "cell_type": "markdown",
      "metadata": {
        "id": "-O7Aiwuuu7tv"
      },
      "source": [
        "# Problem Statement"
      ]
    },
    {
      "cell_type": "markdown",
      "metadata": {
        "id": "k1pvtc75vGj5"
      },
      "source": [
        "Suppose you are out on a hike and you find a treasure pack in your path, having numerous 4 types of items with weights 1, 2, 4 and 6 kg respectively and their associated values 1, 2, 10 and 4 units respectively. While your backpack can only add 15 kgs of weight, how would you select which items to take and how much to take? Formulate a mathematical model to select items such that you get the maximum value possible."
      ]
    },
    {
      "cell_type": "markdown",
      "metadata": {
        "id": "iEz9ysxmwuBf"
      },
      "source": [
        "# Problem Formulation"
      ]
    },
    {
      "cell_type": "markdown",
      "metadata": {
        "id": "P3DvHznEwyS4"
      },
      "source": [
        "Let *x*i be the number of ith type of item picked\n",
        "\n",
        "    Max z = x1 + 2x2 + 10x3 + 4x4\n",
        "    st. \n",
        "            x1 + 2x2 + 4x3 + 6x4 <= 15\n",
        "\n",
        "            x1, x2, x3, x4 >= 0 and integers"
      ]
    },
    {
      "cell_type": "markdown",
      "metadata": {
        "id": "_YkdygBR0tDr"
      },
      "source": [
        "# Solution"
      ]
    },
    {
      "cell_type": "code",
      "metadata": {
        "id": "S1R01qumskgz"
      },
      "source": [
        "#import the linear solver wrapper\n",
        "from ortools.linear_solver import pywraplp"
      ],
      "execution_count": 1,
      "outputs": []
    },
    {
      "cell_type": "code",
      "metadata": {
        "id": "R0Um5Q4ks4iT"
      },
      "source": [
        "#create the mip solver \n",
        "solver = pywraplp.Solver.CreateSolver('CP_SAT')"
      ],
      "execution_count": 2,
      "outputs": []
    },
    {
      "cell_type": "code",
      "metadata": {
        "colab": {
          "base_uri": "https://localhost:8080/"
        },
        "id": "4rVJyz-9s_Az",
        "outputId": "9b6680fa-3bae-4b9f-cc9c-30ecd1b36927"
      },
      "source": [
        "#define variables\n",
        "\n",
        "infinity = solver.infinity()\n",
        "\n",
        "x1 = solver.IntVar(0.0, infinity, 'x1')\n",
        "x2 = solver.IntVar(0.0, infinity, 'x2')\n",
        "x3 = solver.IntVar(0.0, infinity, 'x3')\n",
        "x4 = solver.IntVar(0.0, infinity, 'x4')\n",
        "\n",
        "print('Number of Variables =', solver.NumVariables())"
      ],
      "execution_count": 3,
      "outputs": [
        {
          "output_type": "stream",
          "name": "stdout",
          "text": [
            "Number of Variables = 4\n"
          ]
        }
      ]
    },
    {
      "cell_type": "code",
      "metadata": {
        "colab": {
          "base_uri": "https://localhost:8080/"
        },
        "id": "rWAAZpS4tf7z",
        "outputId": "77c3f6cc-7c38-4af0-f6f3-65c382759bca"
      },
      "source": [
        "#define constraints\n",
        "#x1 + 2x2 + 4x3 + 6x4 <= 15\n",
        "\n",
        "solver.Add(x1 + 2 * x2 + 4 * x3 + 6 * x4 <= 15)\n",
        "\n",
        "print('Number of Constraints =', solver.NumConstraints())"
      ],
      "execution_count": 4,
      "outputs": [
        {
          "output_type": "stream",
          "name": "stdout",
          "text": [
            "Number of Constraints = 1\n"
          ]
        }
      ]
    },
    {
      "cell_type": "code",
      "metadata": {
        "id": "IJUJeZCAtz4k"
      },
      "source": [
        "#define objective\n",
        "\n",
        "# x1 + 2*x2 + 10*x3 + 4*x4\n",
        "\n",
        "solver.Maximize(x1 + 2 * x2 + 10 * x3 + 4 * x4)\n",
        "\n",
        "#call the solver\n",
        "\n",
        "status = solver.Solve()"
      ],
      "execution_count": 5,
      "outputs": []
    },
    {
      "cell_type": "code",
      "metadata": {
        "colab": {
          "base_uri": "https://localhost:8080/"
        },
        "id": "911kRfqmuF06",
        "outputId": "9ce084b0-26de-484c-fabc-41afede12962"
      },
      "source": [
        "#display results\n",
        "\n",
        "if status == pywraplp.Solver.OPTIMAL:\n",
        "  print('Optimal Solution found:')\n",
        "  print('Objective function value =', solver.Objective().Value())\n",
        "  print('x1 =', x1.solution_value())\n",
        "  print('x2 =', x2.solution_value())\n",
        "  print('x3 =', x3.solution_value())\n",
        "  print('x4 =', x4.solution_value())\n",
        "\n",
        "else:\n",
        "  print('Problem does not have an optimal solution.')"
      ],
      "execution_count": 6,
      "outputs": [
        {
          "output_type": "stream",
          "name": "stdout",
          "text": [
            "Optimal Solution found:\n",
            "Objective function value = 33.0\n",
            "x1 = 3.0\n",
            "x2 = 0.0\n",
            "x3 = 3.0\n",
            "x4 = 0.0\n"
          ]
        }
      ]
    },
    {
      "cell_type": "markdown",
      "metadata": {
        "id": "XYSPA972xbE0"
      },
      "source": [
        "*So, it is advisable to pick 3 type1 items and 3 type3 items in order to maximize the total value to 33 units.*"
      ]
    }
  ]
}
